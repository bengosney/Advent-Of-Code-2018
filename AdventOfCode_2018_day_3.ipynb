{
  "nbformat": 4,
  "nbformat_minor": 0,
  "metadata": {
    "colab": {
      "name": "AdventOfCode-2018-day-3.ipynb",
      "version": "0.3.2",
      "provenance": [],
      "collapsed_sections": [],
      "include_colab_link": true
    },
    "kernelspec": {
      "name": "python3",
      "display_name": "Python 3"
    }
  },
  "cells": [
    {
      "cell_type": "markdown",
      "metadata": {
        "id": "view-in-github",
        "colab_type": "text"
      },
      "source": [
        "<a href=\"https://colab.research.google.com/github/bengosney/Advent-Of-Code-2018/blob/master/AdventOfCode_2018_day_3.ipynb\" target=\"_parent\"><img src=\"https://colab.research.google.com/assets/colab-badge.svg\" alt=\"Open In Colab\"/></a>"
      ]
    },
    {
      "metadata": {
        "id": "Z8uWALUJO83F",
        "colab_type": "text"
      },
      "cell_type": "markdown",
      "source": [
        "# Advent of Code - Day 3"
      ]
    },
    {
      "metadata": {
        "id": "XB38iQIcO-aO",
        "colab_type": "text"
      },
      "cell_type": "markdown",
      "source": [
        "## The input\n",
        "Nothing to see here..."
      ]
    },
    {
      "metadata": {
        "id": "qOrX1Na70qhy",
        "colab_type": "code",
        "colab": {}
      },
      "cell_type": "code",
      "source": [
        "with open('day3') as f:\n",
        "  data = f.read()\n",
        "  \n",
        "data = data.splitlines()"
      ],
      "execution_count": 0,
      "outputs": []
    },
    {
      "metadata": {
        "id": "PMv65gTOPAU5",
        "colab_type": "text"
      },
      "cell_type": "markdown",
      "source": [
        "## Part One"
      ]
    },
    {
      "metadata": {
        "id": "KqlzkWex0_bK",
        "colab_type": "code",
        "colab": {}
      },
      "cell_type": "code",
      "source": [
        "import re\n",
        "import numpy as np"
      ],
      "execution_count": 0,
      "outputs": []
    },
    {
      "metadata": {
        "id": "H66EcfNlPD0H",
        "colab_type": "text"
      },
      "cell_type": "markdown",
      "source": [
        "Build up my cutting list in a massive array.\n",
        "\n",
        "God bless numpy! Also if I set the size to 1000 x 1000 I get an index error, 2000x2000 it is then!"
      ]
    },
    {
      "metadata": {
        "id": "YLsOn7yK1yJ5",
        "colab_type": "code",
        "colab": {}
      },
      "cell_type": "code",
      "source": [
        "fab = np.zeros((2000,2000))\n",
        "\n",
        "for line in data:\n",
        "  m = re.search('#(\\d+) @ (\\d+),(\\d+): (\\d+)x(\\d+)', line)\n",
        "  idx, x, y, w, h = map(int, m.groups())\n",
        "\n",
        "  fab[x:x+w, y:y+h] += 1"
      ],
      "execution_count": 0,
      "outputs": []
    },
    {
      "metadata": {
        "id": "al_DIyuVRPQ7",
        "colab_type": "text"
      },
      "cell_type": "markdown",
      "source": [
        "Count the overlaps"
      ]
    },
    {
      "metadata": {
        "id": "7gcSER7lQf19",
        "colab_type": "code",
        "outputId": "6b2f81bf-8941-4f29-d396-3a5f575ccc0a",
        "colab": {
          "base_uri": "https://localhost:8080/",
          "height": 34
        }
      },
      "cell_type": "code",
      "source": [
        "sum(sum(fab > 1))"
      ],
      "execution_count": 5,
      "outputs": [
        {
          "output_type": "execute_result",
          "data": {
            "text/plain": [
              "112378"
            ]
          },
          "metadata": {
            "tags": []
          },
          "execution_count": 5
        }
      ]
    },
    {
      "metadata": {
        "id": "P6U8rC6gPl7V",
        "colab_type": "text"
      },
      "cell_type": "markdown",
      "source": [
        "## Part 2\n",
        "\n",
        "Loop the list again to find the area that is all 1's"
      ]
    },
    {
      "metadata": {
        "id": "pKvZGOP45J5b",
        "colab_type": "code",
        "outputId": "bbf75180-972c-4132-b184-a632fd9e107b",
        "colab": {
          "base_uri": "https://localhost:8080/",
          "height": 34
        }
      },
      "cell_type": "code",
      "source": [
        "for line in data:\n",
        "  m = re.search('#(\\d+) @ (\\d+),(\\d+): (\\d+)x(\\d+)', line)\n",
        "  idx, x, y, w, h = map(int, m.groups())\n",
        "  \n",
        "  if np.all(fab[x:x + w, y:y+h] == 1):\n",
        "    print(idx)"
      ],
      "execution_count": 6,
      "outputs": [
        {
          "output_type": "stream",
          "text": [
            "603\n"
          ],
          "name": "stdout"
        }
      ]
    },
    {
      "metadata": {
        "id": "qtAS97TrEu82",
        "colab_type": "code",
        "colab": {}
      },
      "cell_type": "code",
      "source": [
        ""
      ],
      "execution_count": 0,
      "outputs": []
    }
  ]
}