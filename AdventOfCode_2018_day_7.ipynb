{
  "nbformat": 4,
  "nbformat_minor": 0,
  "metadata": {
    "colab": {
      "name": "AdventOfCode-2018-day-7.ipynb",
      "version": "0.3.2",
      "provenance": [],
      "collapsed_sections": [],
      "toc_visible": true,
      "include_colab_link": true
    },
    "kernelspec": {
      "name": "python3",
      "display_name": "Python 3"
    }
  },
  "cells": [
    {
      "cell_type": "markdown",
      "metadata": {
        "id": "view-in-github",
        "colab_type": "text"
      },
      "source": [
        "<a href=\"https://colab.research.google.com/github/bengosney/Advent-Of-Code-2018/blob/master/AdventOfCode_2018_day_7.ipynb\" target=\"_parent\"><img src=\"https://colab.research.google.com/assets/colab-badge.svg\" alt=\"Open In Colab\"/></a>"
      ]
    },
    {
      "metadata": {
        "id": "sZo2eLisgwpr",
        "colab_type": "text"
      },
      "cell_type": "markdown",
      "source": [
        "# Advent of Code - Day 7"
      ]
    },
    {
      "metadata": {
        "id": "O4o8656NgyJR",
        "colab_type": "text"
      },
      "cell_type": "markdown",
      "source": [
        "## The input\n",
        "Nothing to see here..."
      ]
    },
    {
      "metadata": {
        "id": "-YkolHgKVZfd",
        "colab_type": "code",
        "colab": {}
      },
      "cell_type": "code",
      "source": [
        "with open('day7') as f:\n",
        "  data = f.read()\n",
        "\n",
        "data = data.splitlines()"
      ],
      "execution_count": 0,
      "outputs": []
    },
    {
      "metadata": {
        "id": "g3utekjxg_XO",
        "colab_type": "text"
      },
      "cell_type": "markdown",
      "source": [
        "## Part One"
      ]
    },
    {
      "metadata": {
        "id": "iJp8UVlTXG_w",
        "colab_type": "code",
        "colab": {}
      },
      "cell_type": "code",
      "source": [
        "from collections import defaultdict"
      ],
      "execution_count": 0,
      "outputs": []
    },
    {
      "metadata": {
        "id": "Igx2lqi7cL1G",
        "colab_type": "code",
        "colab": {}
      },
      "cell_type": "code",
      "source": [
        "def parse(line):\n",
        "  parts = line.split(' ')\n",
        "  return (parts[1], parts[7])"
      ],
      "execution_count": 0,
      "outputs": []
    },
    {
      "metadata": {
        "id": "2MjTVu3cAbUQ",
        "colab_type": "code",
        "outputId": "7d5342d5-0cb5-4b69-dbd2-b22d8b5a5404",
        "colab": {
          "base_uri": "https://localhost:8080/",
          "height": 34
        }
      },
      "cell_type": "code",
      "source": [
        "dep_pairs = defaultdict(lambda: [])\n",
        "  \n",
        "for line in data:\n",
        "  f, s = parse(line)\n",
        "  dep_pairs[s].append(f)\n",
        "  dep_pairs[f]\n",
        "  \n",
        "done = []\n",
        "\n",
        "while len(done) < len(dep_pairs):\n",
        "  for l, deps in sorted(dep_pairs.items()):\n",
        "    if l not in done and all(d in done for d in deps):\n",
        "      done.append(l)\n",
        "      break\n",
        "      \n",
        "print(\"\".join(done))"
      ],
      "execution_count": 14,
      "outputs": [
        {
          "output_type": "stream",
          "text": [
            "FHICMRTXYDBOAJNPWQGVZUEKLS\n"
          ],
          "name": "stdout"
        }
      ]
    },
    {
      "metadata": {
        "id": "nE7AZkaihdQc",
        "colab_type": "text"
      },
      "cell_type": "markdown",
      "source": [
        "## Part Two"
      ]
    },
    {
      "metadata": {
        "id": "S5ION2-nD_dU",
        "colab_type": "code",
        "colab": {}
      },
      "cell_type": "code",
      "source": [
        "num = 5\n",
        "\n",
        "def time(c):\n",
        "  return 60 + ord(c) - 64\n",
        "\n",
        "dep_pairs = defaultdict(lambda: [])\n",
        "  \n",
        "for line in data:\n",
        "  f, s = parse(line)\n",
        "  dep_pairs[s].append(f)\n",
        "  dep_pairs[f]\n",
        "  \n",
        "done = []\n",
        "tick = 0\n",
        "workers = [-1 for _ in range(0,num)]\n",
        "workingon = [None for _ in range(0,num)]\n",
        "\n",
        "def get_work():\n",
        "  for l, deps in sorted(dep_pairs.items()):\n",
        "    if l not in done and all(d in done for d in deps) and l not in workingon:\n",
        "      return l\n",
        "    \n",
        "  return None\n",
        "\n",
        "\n",
        "while len(done) < len(dep_pairs) or any(w > tick for w in workers):  \n",
        "  for i, w in enumerate(workers):\n",
        "    if w <= tick:\n",
        "      if workingon[i] is not None:\n",
        "        done.append(workingon[i])\n",
        "        workingon[i] = None\n",
        "        \n",
        "  for i, w in enumerate(workers):\n",
        "    if w <= tick:\n",
        "      work = get_work()\n",
        "      if work is not None:\n",
        "        workingon[i] = work\n",
        "        workers[i] = time(work) + tick\n",
        "        \n",
        "  tick += 1"
      ],
      "execution_count": 0,
      "outputs": []
    },
    {
      "metadata": {
        "id": "BpXQxjGkIrBe",
        "colab_type": "code",
        "colab": {
          "base_uri": "https://localhost:8080/",
          "height": 34
        },
        "outputId": "af39dffa-056f-47bf-8b6d-077af35c9579"
      },
      "cell_type": "code",
      "source": [
        "print(tick - 1)"
      ],
      "execution_count": 16,
      "outputs": [
        {
          "output_type": "stream",
          "text": [
            "946\n"
          ],
          "name": "stdout"
        }
      ]
    }
  ]
}