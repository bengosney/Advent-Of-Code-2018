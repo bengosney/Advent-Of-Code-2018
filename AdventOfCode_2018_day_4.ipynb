{
  "nbformat": 4,
  "nbformat_minor": 0,
  "metadata": {
    "colab": {
      "name": "AdventOfCode-2018-day-4.ipynb",
      "version": "0.3.2",
      "provenance": [],
      "collapsed_sections": [],
      "toc_visible": true,
      "include_colab_link": true
    },
    "kernelspec": {
      "name": "python3",
      "display_name": "Python 3"
    }
  },
  "cells": [
    {
      "cell_type": "markdown",
      "metadata": {
        "id": "view-in-github",
        "colab_type": "text"
      },
      "source": [
        "<a href=\"https://colab.research.google.com/github/bengosney/Advent-Of-Code-2018/blob/master/AdventOfCode_2018_day_4.ipynb\" target=\"_parent\"><img src=\"https://colab.research.google.com/assets/colab-badge.svg\" alt=\"Open In Colab\"/></a>"
      ]
    },
    {
      "metadata": {
        "id": "Z8uWALUJO83F",
        "colab_type": "text"
      },
      "cell_type": "markdown",
      "source": [
        "# Advent of Code - Day 4"
      ]
    },
    {
      "metadata": {
        "id": "XB38iQIcO-aO",
        "colab_type": "text"
      },
      "cell_type": "markdown",
      "source": [
        "## The input\n",
        "Nothing to see here..."
      ]
    },
    {
      "metadata": {
        "id": "qOrX1Na70qhy",
        "colab_type": "code",
        "colab": {}
      },
      "cell_type": "code",
      "source": [
        "with open('day4') as f:\n",
        "  data = f.read()"
      ],
      "execution_count": 0,
      "outputs": []
    },
    {
      "metadata": {
        "id": "ELrv79vj6SeT",
        "colab_type": "text"
      },
      "cell_type": "markdown",
      "source": [
        "## Part One\n",
        "\n",
        "normal imports\n",
        "\n"
      ]
    },
    {
      "metadata": {
        "id": "RJcfI-7TV6Jd",
        "colab_type": "code",
        "colab": {}
      },
      "cell_type": "code",
      "source": [
        "from collections import defaultdict\n",
        "import re"
      ],
      "execution_count": 0,
      "outputs": []
    },
    {
      "metadata": {
        "id": "RakK0FAL6eFx",
        "colab_type": "text"
      },
      "cell_type": "markdown",
      "source": [
        "Split and sort the input then define some functions to get the minutes and guard id from a string"
      ]
    },
    {
      "metadata": {
        "id": "5vkxycRnF0hl",
        "colab_type": "code",
        "colab": {}
      },
      "cell_type": "code",
      "source": [
        "lines = data.split('\\n')\n",
        "lines.sort()\n",
        "\n",
        "def get_min(line):\n",
        "  return int(re.search(':(\\d+)', line).group(1))\n",
        "\n",
        "def get_guard(line):\n",
        "  try:\n",
        "    return int(re.search('#(\\d+)', line).group(1))\n",
        "  except:\n",
        "    return None"
      ],
      "execution_count": 0,
      "outputs": []
    },
    {
      "metadata": {
        "id": "uD_zX6kP6n_J",
        "colab_type": "text"
      },
      "cell_type": "markdown",
      "source": [
        "Build two dictionaries of the guard data, one that has the total and the other that has guard id and minute as a key"
      ]
    },
    {
      "metadata": {
        "id": "IokQ3W91UgId",
        "colab_type": "code",
        "colab": {}
      },
      "cell_type": "code",
      "source": [
        "count = defaultdict(int)\n",
        "count_min = defaultdict(int)\n",
        "guard = None\n",
        "a = None\n",
        "\n",
        "for line in lines:\n",
        "  if 'begins shift' in line:\n",
        "    guard = get_guard(line)\n",
        "    a = None\n",
        "  if 'falls asleep' in line:\n",
        "    a = get_min(line)\n",
        "  if 'wakes up' in line:\n",
        "    t = get_min(line)\n",
        "    for m in range(a, t):\n",
        "      count[guard] += 1\n",
        "      count_min[(guard, m)] += 1\n",
        "\n"
      ],
      "execution_count": 0,
      "outputs": []
    },
    {
      "metadata": {
        "id": "XlomSCm063H9",
        "colab_type": "text"
      },
      "cell_type": "markdown",
      "source": [
        "Find the best guard"
      ]
    },
    {
      "metadata": {
        "id": "46R-ukAdUptk",
        "colab_type": "code",
        "outputId": "e4660ea0-1d01-441c-f0db-1a913bfa6036",
        "colab": {
          "base_uri": "https://localhost:8080/",
          "height": 34
        }
      },
      "cell_type": "code",
      "source": [
        "best = 0\n",
        "g = 0\n",
        "for idx, c in count.items():\n",
        "  if c > best:\n",
        "    best = c\n",
        "    g = idx\n",
        "    \n",
        "print(g)"
      ],
      "execution_count": 0,
      "outputs": [
        {
          "output_type": "stream",
          "text": [
            "499\n"
          ],
          "name": "stdout"
        }
      ]
    },
    {
      "metadata": {
        "id": "rjlDQtmM65kt",
        "colab_type": "text"
      },
      "cell_type": "markdown",
      "source": [
        "Find his best minute"
      ]
    },
    {
      "metadata": {
        "id": "04BAemATclu2",
        "colab_type": "code",
        "outputId": "ecaf7ef7-6d90-4485-9d44-b281500b9e2d",
        "colab": {
          "base_uri": "https://localhost:8080/",
          "height": 34
        }
      },
      "cell_type": "code",
      "source": [
        "best = 0\n",
        "minute = 0\n",
        "for i, c in count_min.items():\n",
        "  idx, t = i\n",
        "  if idx == g:\n",
        "    if c > best:\n",
        "      best = c\n",
        "      minute = t\n",
        "      \n",
        "print(minute)"
      ],
      "execution_count": 0,
      "outputs": [
        {
          "output_type": "stream",
          "text": [
            "44\n"
          ],
          "name": "stdout"
        }
      ]
    },
    {
      "metadata": {
        "id": "tOqo8FNm7KgY",
        "colab_type": "text"
      },
      "cell_type": "markdown",
      "source": [
        "Find the answer"
      ]
    },
    {
      "metadata": {
        "id": "t2wQ4a0jctdF",
        "colab_type": "code",
        "outputId": "5b47bfb1-02b7-4291-c49d-0a2a13c810dc",
        "colab": {
          "base_uri": "https://localhost:8080/",
          "height": 34
        }
      },
      "cell_type": "code",
      "source": [
        "print(g * minute)"
      ],
      "execution_count": 0,
      "outputs": [
        {
          "output_type": "stream",
          "text": [
            "21956\n"
          ],
          "name": "stdout"
        }
      ]
    },
    {
      "metadata": {
        "id": "oM-6CE8S6YGF",
        "colab_type": "text"
      },
      "cell_type": "markdown",
      "source": [
        "## Part 2\n",
        "\n",
        "Find the absolute best minute"
      ]
    },
    {
      "metadata": {
        "id": "JktHp5ZfdmCz",
        "colab_type": "code",
        "outputId": "446adcf8-dd4d-4be0-cb7d-b722a49c88cf",
        "colab": {
          "base_uri": "https://localhost:8080/",
          "height": 34
        }
      },
      "cell_type": "code",
      "source": [
        "best = 0\n",
        "store = 0\n",
        "for i, c in count_min.items():\n",
        "  if c > best:\n",
        "    best = c\n",
        "    store = i\n",
        "      \n",
        "idx, minute = store\n",
        "print(idx * minute)"
      ],
      "execution_count": 0,
      "outputs": [
        {
          "output_type": "stream",
          "text": [
            "134511\n"
          ],
          "name": "stdout"
        }
      ]
    },
    {
      "metadata": {
        "id": "L0HywBiUwZjf",
        "colab_type": "code",
        "colab": {}
      },
      "cell_type": "code",
      "source": [
        ""
      ],
      "execution_count": 0,
      "outputs": []
    }
  ]
}