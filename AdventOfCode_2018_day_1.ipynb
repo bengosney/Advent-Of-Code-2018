{
  "nbformat": 4,
  "nbformat_minor": 0,
  "metadata": {
    "colab": {
      "name": "AdventOfCode-2018-day-1.ipynb",
      "version": "0.3.2",
      "provenance": [],
      "collapsed_sections": [],
      "toc_visible": true,
      "include_colab_link": true
    },
    "kernelspec": {
      "name": "python3",
      "display_name": "Python 3"
    }
  },
  "cells": [
    {
      "cell_type": "markdown",
      "metadata": {
        "id": "view-in-github",
        "colab_type": "text"
      },
      "source": [
        "<a href=\"https://colab.research.google.com/github/bengosney/Advent-Of-Code-2018/blob/master/AdventOfCode_2018_day_1.ipynb\" target=\"_parent\"><img src=\"https://colab.research.google.com/assets/colab-badge.svg\" alt=\"Open In Colab\"/></a>"
      ]
    },
    {
      "metadata": {
        "id": "DIvcrcNWbUit",
        "colab_type": "text"
      },
      "cell_type": "markdown",
      "source": [
        "# Advent of Code - Day 1"
      ]
    },
    {
      "metadata": {
        "id": "c2nt5zmjbaV_",
        "colab_type": "text"
      },
      "cell_type": "markdown",
      "source": [
        "## The input\n",
        "Nothing to see here..."
      ]
    },
    {
      "metadata": {
        "id": "DQiFDEjzgbKX",
        "colab_type": "code",
        "colab": {}
      },
      "cell_type": "code",
      "source": [
        "with open('day1') as f:\n",
        "  data = f.read()\n",
        "  \n",
        "data = data.splitlines()"
      ],
      "execution_count": 0,
      "outputs": []
    },
    {
      "metadata": {
        "id": "SZOuZlivWZjL",
        "colab_type": "text"
      },
      "cell_type": "markdown",
      "source": [
        "## Part One"
      ]
    },
    {
      "metadata": {
        "id": "N6pAL2kKbnvA",
        "colab_type": "text"
      },
      "cell_type": "markdown",
      "source": [
        "### Attempt One"
      ]
    },
    {
      "metadata": {
        "id": "UdCj_zYDN2IZ",
        "colab_type": "code",
        "outputId": "ce108a2c-d1f4-4a6e-b417-e1468f927f2a",
        "colab": {
          "base_uri": "https://localhost:8080/",
          "height": 34
        }
      },
      "cell_type": "code",
      "source": [
        "freq = 0\n",
        "\n",
        "for change in data:\n",
        "  freq += int(change)\n",
        "  \n",
        "freq"
      ],
      "execution_count": 2,
      "outputs": [
        {
          "output_type": "execute_result",
          "data": {
            "text/plain": [
              "520"
            ]
          },
          "metadata": {
            "tags": []
          },
          "execution_count": 2
        }
      ]
    },
    {
      "metadata": {
        "id": "8GP6vbFNXRoL",
        "colab_type": "text"
      },
      "cell_type": "markdown",
      "source": [
        "Got the correct answer but it's quite long, I can do better"
      ]
    },
    {
      "metadata": {
        "id": "Wyx1bRLUbpuq",
        "colab_type": "text"
      },
      "cell_type": "markdown",
      "source": [
        "### Attempt Two"
      ]
    },
    {
      "metadata": {
        "id": "s0nTc9HfWX2T",
        "colab_type": "code",
        "outputId": "d6598528-774b-472e-d43b-9211f67dbef8",
        "colab": {
          "base_uri": "https://localhost:8080/",
          "height": 34
        }
      },
      "cell_type": "code",
      "source": [
        "sum([int(change) for change in data])"
      ],
      "execution_count": 3,
      "outputs": [
        {
          "output_type": "execute_result",
          "data": {
            "text/plain": [
              "520"
            ]
          },
          "metadata": {
            "tags": []
          },
          "execution_count": 3
        }
      ]
    },
    {
      "metadata": {
        "id": "ZPfV75thXZY3",
        "colab_type": "text"
      },
      "cell_type": "markdown",
      "source": [
        "Single line, much better"
      ]
    },
    {
      "metadata": {
        "id": "gy5iqr2zWdpQ",
        "colab_type": "text"
      },
      "cell_type": "markdown",
      "source": [
        "## Part Two"
      ]
    },
    {
      "metadata": {
        "id": "vZEucYtWX_e0",
        "colab_type": "text"
      },
      "cell_type": "markdown",
      "source": [
        "### Attempt one\n",
        "I didn't read it properly... \n",
        "\n",
        "> *Note that your device might need to repeat its list of frequency changes many times before a duplicate frequency is found*\n",
        "\n"
      ]
    },
    {
      "metadata": {
        "id": "vw19uOD7Ozpm",
        "colab_type": "code",
        "outputId": "d66840fd-e141-4848-8f8b-fc19ac82252d",
        "colab": {
          "base_uri": "https://localhost:8080/",
          "height": 34
        }
      },
      "cell_type": "code",
      "source": [
        "import collections\n",
        "\n",
        "freq = 0\n",
        "hist = []\n",
        "for change in data:\n",
        "  freq += int(change)\n",
        "  hist.append(freq)\n",
        "  \n",
        "print([item for item, count in collections.Counter(hist).items() if count > 1])"
      ],
      "execution_count": 4,
      "outputs": [
        {
          "output_type": "stream",
          "text": [
            "[]\n"
          ],
          "name": "stdout"
        }
      ]
    },
    {
      "metadata": {
        "id": "7myv3lC3Wq72",
        "colab_type": "text"
      },
      "cell_type": "markdown",
      "source": [
        "yea, didn't work, so I went back read the task. I also didn't like using an external lib\n",
        "### Attempt two"
      ]
    },
    {
      "metadata": {
        "id": "KD8E_n4XO7I5",
        "colab_type": "code",
        "outputId": "f4d39beb-1d23-46c5-db9a-aef3678aa40d",
        "colab": {
          "base_uri": "https://localhost:8080/",
          "height": 34
        }
      },
      "cell_type": "code",
      "source": [
        "freq = 0\n",
        "hist = []\n",
        "first = None\n",
        "loop = 0\n",
        "while first == None:\n",
        "  loop += 1\n",
        "  for change in data:\n",
        "    freq += int(change)\n",
        "  \n",
        "    if freq in hist and first == None:\n",
        "      first = freq\n",
        "  \n",
        "    hist.append(freq)\n",
        "    \n",
        "    \n",
        "print(\"Fount {} on loop {}\".format(first, loop))"
      ],
      "execution_count": 5,
      "outputs": [
        {
          "output_type": "stream",
          "text": [
            "Fount 394 on loop 140\n"
          ],
          "name": "stdout"
        }
      ]
    },
    {
      "metadata": {
        "id": "YlvJh8HOZOXN",
        "colab_type": "text"
      },
      "cell_type": "markdown",
      "source": [
        "This took *a lot* longer than I expected to run the 140 loops but got the correct answer. \n",
        "And it's a lot of code."
      ]
    },
    {
      "metadata": {
        "id": "95TWNshueszc",
        "colab_type": "code",
        "colab": {}
      },
      "cell_type": "code",
      "source": [
        ""
      ],
      "execution_count": 0,
      "outputs": []
    }
  ]
}