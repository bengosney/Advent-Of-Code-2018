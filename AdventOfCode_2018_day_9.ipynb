{
  "nbformat": 4,
  "nbformat_minor": 0,
  "metadata": {
    "colab": {
      "name": "AdventOfCode-2018-day-9.ipynb",
      "version": "0.3.2",
      "provenance": [],
      "collapsed_sections": [],
      "include_colab_link": true
    },
    "kernelspec": {
      "name": "python3",
      "display_name": "Python 3"
    }
  },
  "cells": [
    {
      "cell_type": "markdown",
      "metadata": {
        "id": "view-in-github",
        "colab_type": "text"
      },
      "source": [
        "<a href=\"https://colab.research.google.com/github/bengosney/Advent-Of-Code-2018/blob/master/AdventOfCode_2018_day_9.ipynb\" target=\"_parent\"><img src=\"https://colab.research.google.com/assets/colab-badge.svg\" alt=\"Open In Colab\"/></a>"
      ]
    },
    {
      "metadata": {
        "id": "sZo2eLisgwpr",
        "colab_type": "text"
      },
      "cell_type": "markdown",
      "source": [
        "# Advent of Code - Day 9"
      ]
    },
    {
      "metadata": {
        "id": "O4o8656NgyJR",
        "colab_type": "text"
      },
      "cell_type": "markdown",
      "source": [
        "## The input\n",
        "I'm not even going to bother \"processing\" this"
      ]
    },
    {
      "metadata": {
        "id": "-YkolHgKVZfd",
        "colab_type": "code",
        "colab": {}
      },
      "cell_type": "code",
      "source": [
        "data = \"\"\"427 players; last marble is worth 70723 points\"\"\"\n",
        "players = 427\n",
        "rounds = 70723"
      ],
      "execution_count": 0,
      "outputs": []
    },
    {
      "metadata": {
        "id": "g3utekjxg_XO",
        "colab_type": "text"
      },
      "cell_type": "markdown",
      "source": [
        "## Part One\n",
        "This became a lot easier once I remembered about deque"
      ]
    },
    {
      "metadata": {
        "id": "5KgCqgPpbS34",
        "colab_type": "code",
        "colab": {}
      },
      "cell_type": "code",
      "source": [
        "from collections import defaultdict, deque"
      ],
      "execution_count": 0,
      "outputs": []
    },
    {
      "metadata": {
        "id": "DIjg4_1fS-lK",
        "colab_type": "code",
        "outputId": "30d4b213-45bc-4a56-9b0f-4888cfd5d3f7",
        "colab": {
          "base_uri": "https://localhost:8080/",
          "height": 34
        }
      },
      "cell_type": "code",
      "source": [
        "ring = deque([0])\n",
        "scores = defaultdict(int)\n",
        "    \n",
        "for i in range(1, rounds + 1):  \n",
        "  if i % 23 == 0:\n",
        "    ring.rotate(7)\n",
        "    scores[i % players] += i + ring.pop()\n",
        "    ring.rotate(-1)\n",
        "  else:\n",
        "    ring.rotate(-1)\n",
        "    ring.append(i)\n",
        "    \n",
        "print(max(scores.values()))"
      ],
      "execution_count": 3,
      "outputs": [
        {
          "output_type": "stream",
          "text": [
            "399745\n"
          ],
          "name": "stdout"
        }
      ]
    },
    {
      "metadata": {
        "id": "nE7AZkaihdQc",
        "colab_type": "text"
      },
      "cell_type": "markdown",
      "source": [
        "## Part Two\n",
        "Ummm, really?"
      ]
    },
    {
      "metadata": {
        "id": "BpXQxjGkIrBe",
        "colab_type": "code",
        "colab": {
          "base_uri": "https://localhost:8080/",
          "height": 34
        },
        "outputId": "6e0c8a8a-3961-4fae-8be4-86515aaa2d84"
      },
      "cell_type": "code",
      "source": [
        "ring = deque([0])\n",
        "scores = defaultdict(int)\n",
        "    \n",
        "for i in range(1, (rounds * 100) + 1):  \n",
        "  if i % 23 == 0:\n",
        "    ring.rotate(7)\n",
        "    scores[i % players] += i + ring.pop()\n",
        "    ring.rotate(-1)\n",
        "  else:\n",
        "    ring.rotate(-1)\n",
        "    ring.append(i)\n",
        "    \n",
        "print(max(scores.values()))"
      ],
      "execution_count": 4,
      "outputs": [
        {
          "output_type": "stream",
          "text": [
            "3349098263\n"
          ],
          "name": "stdout"
        }
      ]
    }
  ]
}