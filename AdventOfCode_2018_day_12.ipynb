{
  "nbformat": 4,
  "nbformat_minor": 0,
  "metadata": {
    "colab": {
      "name": "AdventOfCode-2018-day-12.ipynb",
      "version": "0.3.2",
      "provenance": [],
      "collapsed_sections": [],
      "include_colab_link": true
    },
    "kernelspec": {
      "name": "python3",
      "display_name": "Python 3"
    }
  },
  "cells": [
    {
      "cell_type": "markdown",
      "metadata": {
        "id": "view-in-github",
        "colab_type": "text"
      },
      "source": [
        "<a href=\"https://colab.research.google.com/github/bengosney/Advent-Of-Code-2018/blob/master/AdventOfCode_2018_day_12.ipynb\" target=\"_parent\"><img src=\"https://colab.research.google.com/assets/colab-badge.svg\" alt=\"Open In Colab\"/></a>"
      ]
    },
    {
      "metadata": {
        "id": "sZo2eLisgwpr",
        "colab_type": "text"
      },
      "cell_type": "markdown",
      "source": [
        "# Advent of Code - Day 12\n"
      ]
    },
    {
      "metadata": {
        "id": "O4o8656NgyJR",
        "colab_type": "text"
      },
      "cell_type": "markdown",
      "source": [
        "## The input\n",
        "Nothing to see here"
      ]
    },
    {
      "metadata": {
        "id": "u0pIlDyJaOJI",
        "colab_type": "code",
        "colab": {}
      },
      "cell_type": "code",
      "source": [
        "inital_state = \"#.##.##.##.##.......###..####..#....#...#.##...##.#.####...#..##..###...##.#..#.##.#.#.#.#..####..#\"\n",
        "data = \"\"\"..### => .\n",
        "##..# => #\n",
        "#..## => .\n",
        ".#..# => .\n",
        "#.##. => .\n",
        "#.... => .\n",
        "##... => #\n",
        "#...# => .\n",
        "###.# => #\n",
        "##.## => .\n",
        "....# => .\n",
        "..##. => #\n",
        "..#.. => .\n",
        "##.#. => .\n",
        ".##.# => #\n",
        "#..#. => #\n",
        ".##.. => #\n",
        "###.. => #\n",
        ".###. => #\n",
        "##### => #\n",
        "####. => .\n",
        ".#.#. => .\n",
        "...#. => #\n",
        "#.### => .\n",
        ".#... => #\n",
        ".#### => .\n",
        "#.#.# => #\n",
        "...## => .\n",
        "..... => .\n",
        ".#.## => #\n",
        "..#.# => #\n",
        "#.#.. => #\"\"\".splitlines()\n",
        "\n",
        "gens = 20"
      ],
      "execution_count": 0,
      "outputs": []
    },
    {
      "metadata": {
        "id": "g3utekjxg_XO",
        "colab_type": "text"
      },
      "cell_type": "markdown",
      "source": [
        "## Part One"
      ]
    },
    {
      "metadata": {
        "id": "3uB8StDdT_A8",
        "colab_type": "code",
        "colab": {}
      },
      "cell_type": "code",
      "source": [
        "import re\n",
        "from collections import Counter\n",
        "from math import ceil"
      ],
      "execution_count": 0,
      "outputs": []
    },
    {
      "metadata": {
        "id": "s3EnHp-Wjhnd",
        "colab_type": "code",
        "outputId": "519612ce-d512-41b4-dace-e78f4979e035",
        "colab": {
          "base_uri": "https://localhost:8080/",
          "height": 34
        }
      },
      "cell_type": "code",
      "source": [
        "def parse_cmd(line):\n",
        "  m = re.search(r\"([#\\.]+) => ([#\\.])\", line)\n",
        "  \n",
        "  return (m.group(1), m.group(2))\n",
        "\n",
        "cmds = []\n",
        "for l in data:\n",
        "  cmd, t = parse_cmd(l)\n",
        "  if t == '#':\n",
        "    cmds.append(cmd)\n",
        "\n",
        "\n",
        "def run_gen(state):\n",
        "  n_state = set()\n",
        "  \n",
        "  for i in range(min(state) - 3, max(state) + 4):\n",
        "    chunk = \"\".join('#' if i + k in state else '.' for k in [-2, -1, 0, 1, 2])\n",
        "    if chunk in cmds:\n",
        "      n_state.add(i)\n",
        "        \n",
        "  return n_state\n",
        "\n",
        "\n",
        "state = set(p for p, char in enumerate(inital_state) if char == '#')\n",
        "\n",
        "for i in range(20):\n",
        "  state = run_gen(state)\n",
        "  \n",
        "  \n",
        "score = sum(state)\n",
        "print(score)"
      ],
      "execution_count": 3,
      "outputs": [
        {
          "output_type": "stream",
          "text": [
            "3903\n"
          ],
          "name": "stdout"
        }
      ]
    },
    {
      "metadata": {
        "id": "nE7AZkaihdQc",
        "colab_type": "text"
      },
      "cell_type": "markdown",
      "source": [
        "## Part Two\n"
      ]
    },
    {
      "metadata": {
        "id": "BpXQxjGkIrBe",
        "colab_type": "code",
        "colab": {
          "base_uri": "https://localhost:8080/",
          "height": 34
        },
        "outputId": "8f80b49b-eb5c-4e20-9f49-b40dc278aeb1"
      },
      "cell_type": "code",
      "source": [
        "state = set(p for p, char in enumerate(inital_state) if char == '#')\n",
        "\n",
        "gens = 50000000000\n",
        "\n",
        "prev = 0\n",
        "score = 0\n",
        "diffs = []\n",
        "\n",
        "for i in range(gens):\n",
        "  state = run_gen(state)\n",
        "  prev = score\n",
        "  score = sum(state)\n",
        "  diffs.append(score - prev)\n",
        "  \n",
        "  counter = Counter(diffs)\n",
        "  diff, count = counter.most_common(1)[0]\n",
        "  if count > ceil(len(diffs) / 3):\n",
        "    break\n",
        "\n",
        "print(score + ((gens - i) * diff))"
      ],
      "execution_count": 4,
      "outputs": [
        {
          "output_type": "stream",
          "text": [
            "3450000002337\n"
          ],
          "name": "stdout"
        }
      ]
    }
  ]
}