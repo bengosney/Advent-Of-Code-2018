{
  "nbformat": 4,
  "nbformat_minor": 0,
  "metadata": {
    "colab": {
      "name": "AdventOfCode-2018-day-5.ipynb",
      "version": "0.3.2",
      "provenance": [],
      "collapsed_sections": [],
      "toc_visible": true,
      "include_colab_link": true
    },
    "kernelspec": {
      "name": "python3",
      "display_name": "Python 3"
    }
  },
  "cells": [
    {
      "cell_type": "markdown",
      "metadata": {
        "id": "view-in-github",
        "colab_type": "text"
      },
      "source": [
        "<a href=\"https://colab.research.google.com/github/bengosney/Advent-Of-Code-2018/blob/master/AdventOfCode_2018_day_5.ipynb\" target=\"_parent\"><img src=\"https://colab.research.google.com/assets/colab-badge.svg\" alt=\"Open In Colab\"/></a>"
      ]
    },
    {
      "metadata": {
        "id": "DIvcrcNWbUit",
        "colab_type": "text"
      },
      "cell_type": "markdown",
      "source": [
        "# Advent of Code - Day 5"
      ]
    },
    {
      "metadata": {
        "id": "c2nt5zmjbaV_",
        "colab_type": "text"
      },
      "cell_type": "markdown",
      "source": [
        "## The input\n",
        "Nothing to see here..."
      ]
    },
    {
      "metadata": {
        "id": "DQiFDEjzgbKX",
        "colab_type": "code",
        "colab": {}
      },
      "cell_type": "code",
      "source": [
        "with open('day5') as f:\n",
        "  data = f.read()"
      ],
      "execution_count": 0,
      "outputs": []
    },
    {
      "metadata": {
        "id": "SZOuZlivWZjL",
        "colab_type": "text"
      },
      "cell_type": "markdown",
      "source": [
        "## Part One"
      ]
    },
    {
      "metadata": {
        "id": "N6pAL2kKbnvA",
        "colab_type": "text"
      },
      "cell_type": "markdown",
      "source": [
        "Build up an array of letter pairs to remove, I'm using `ord('A')` rather than 65 for readability "
      ]
    },
    {
      "metadata": {
        "id": "MRiGchpGKdLd",
        "colab_type": "code",
        "colab": {}
      },
      "cell_type": "code",
      "source": [
        "lc = ord('a')\n",
        "uc = ord('A')\n",
        "\n",
        "toRemove = []\n",
        "\n",
        "for i in range(0, 26):\n",
        "  toRemove.append(\"{}{}\".format(chr(i + lc), chr(i + uc)))\n",
        "  toRemove.append(\"{}{}\".format(chr(i + uc), chr(i + lc)))"
      ],
      "execution_count": 0,
      "outputs": []
    },
    {
      "metadata": {
        "id": "3hsxH2Jxajmi",
        "colab_type": "text"
      },
      "cell_type": "markdown",
      "source": [
        "Keep removing pairs untill the two strings match, also it's turned into a function for part 2"
      ]
    },
    {
      "metadata": {
        "id": "92y_zhOdPD3V",
        "colab_type": "code",
        "outputId": "781ba6a3-40fe-4d90-c514-8b7abff56b62",
        "colab": {
          "base_uri": "https://localhost:8080/",
          "height": 34
        }
      },
      "cell_type": "code",
      "source": [
        "def retract(data, toRemove):\n",
        "  previous = ''\n",
        "  working = data\n",
        "  while working != previous:\n",
        "    previous = working\n",
        "\n",
        "    for s in toRemove:\n",
        "      working = working.replace(s, '')\n",
        "\n",
        "  return working\n",
        "  \n",
        "  \n",
        "print(len(retract(data, toRemove)))"
      ],
      "execution_count": 30,
      "outputs": [
        {
          "output_type": "stream",
          "text": [
            "9900\n"
          ],
          "name": "stdout"
        }
      ]
    },
    {
      "metadata": {
        "id": "gy5iqr2zWdpQ",
        "colab_type": "text"
      },
      "cell_type": "markdown",
      "source": [
        "## Part Two"
      ]
    },
    {
      "metadata": {
        "id": "vZEucYtWX_e0",
        "colab_type": "text"
      },
      "cell_type": "markdown",
      "source": [
        "Loop all the letters first removing them from the data then retract and check the length"
      ]
    },
    {
      "metadata": {
        "id": "vw19uOD7Ozpm",
        "colab_type": "code",
        "colab": {
          "base_uri": "https://localhost:8080/",
          "height": 34
        },
        "outputId": "6c3b5510-a433-448a-9137-28dc330081af"
      },
      "cell_type": "code",
      "source": [
        "minimum = len(data)\n",
        "\n",
        "for i in range(0, 26):\n",
        "    working = data.replace(chr(i + lc), '').replace(chr(i + uc), '')\n",
        "    finished = len(retract(working, toRemove))\n",
        "    \n",
        "    if finished < minimum:\n",
        "      minimum = finished\n",
        "    \n",
        "print(minimum)"
      ],
      "execution_count": 26,
      "outputs": [
        {
          "output_type": "stream",
          "text": [
            "4992\n"
          ],
          "name": "stdout"
        }
      ]
    },
    {
      "metadata": {
        "id": "X1661A4JYjnv",
        "colab_type": "code",
        "colab": {}
      },
      "cell_type": "code",
      "source": [
        ""
      ],
      "execution_count": 0,
      "outputs": []
    }
  ]
}