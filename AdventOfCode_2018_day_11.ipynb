{
  "nbformat": 4,
  "nbformat_minor": 0,
  "metadata": {
    "colab": {
      "name": "AdventOfCode-2018-day-11.ipynb",
      "version": "0.3.2",
      "provenance": [],
      "collapsed_sections": [],
      "include_colab_link": true
    },
    "kernelspec": {
      "name": "python3",
      "display_name": "Python 3"
    }
  },
  "cells": [
    {
      "cell_type": "markdown",
      "metadata": {
        "id": "view-in-github",
        "colab_type": "text"
      },
      "source": [
        "<a href=\"https://colab.research.google.com/github/bengosney/Advent-Of-Code-2018/blob/master/AdventOfCode_2018_day_11.ipynb\" target=\"_parent\"><img src=\"https://colab.research.google.com/assets/colab-badge.svg\" alt=\"Open In Colab\"/></a>"
      ]
    },
    {
      "metadata": {
        "id": "sZo2eLisgwpr",
        "colab_type": "text"
      },
      "cell_type": "markdown",
      "source": [
        "# Advent of Code - Day 11\n"
      ]
    },
    {
      "metadata": {
        "id": "O4o8656NgyJR",
        "colab_type": "text"
      },
      "cell_type": "markdown",
      "source": [
        "## The input\n",
        "I'm not even going to bother \"processing\" this"
      ]
    },
    {
      "metadata": {
        "id": "-YkolHgKVZfd",
        "colab_type": "code",
        "colab": {}
      },
      "cell_type": "code",
      "source": [
        "serial = 1133\n",
        "grid_size = 300\n",
        "square_size = 3"
      ],
      "execution_count": 0,
      "outputs": []
    },
    {
      "metadata": {
        "id": "g3utekjxg_XO",
        "colab_type": "text"
      },
      "cell_type": "markdown",
      "source": [
        "## Part One"
      ]
    },
    {
      "metadata": {
        "id": "3uB8StDdT_A8",
        "colab_type": "code",
        "colab": {}
      },
      "cell_type": "code",
      "source": [
        "import numpy as np"
      ],
      "execution_count": 0,
      "outputs": []
    },
    {
      "metadata": {
        "id": "DIjg4_1fS-lK",
        "colab_type": "code",
        "colab": {}
      },
      "cell_type": "code",
      "source": [
        "def get_power_level(x,y,serial):\n",
        "  rack_id = x + 10\n",
        "  pl = rack_id * y\n",
        "  pl += serial\n",
        "  pl *= rack_id\n",
        "  hundreds = int(str(pl)[::-1][2])\n",
        "  level = hundreds - 5\n",
        "  \n",
        "  return level"
      ],
      "execution_count": 0,
      "outputs": []
    },
    {
      "metadata": {
        "id": "7PJU_-nzS2_h",
        "colab_type": "code",
        "outputId": "3023eb7d-7908-4ac4-cc4a-dba3543b82c5",
        "colab": {
          "base_uri": "https://localhost:8080/",
          "height": 34
        }
      },
      "cell_type": "code",
      "source": [
        "grid = np.array([[get_power_level(x,y,serial) for y in range(grid_size)] for x in range(grid_size)])\n",
        "\n",
        "max_v = -10\n",
        "max_x = -1\n",
        "max_y = -1\n",
        "\n",
        "for x in range(grid_size - square_size):\n",
        "  for y in range(grid_size - square_size):\n",
        "    chunk = grid[x:x+square_size, y:y+square_size]\n",
        "    chunk_sum = sum(sum(chunk))\n",
        "    if chunk_sum > max_v:\n",
        "      max_v = chunk_sum\n",
        "      max_x = x\n",
        "      max_y = y\n",
        "      \n",
        "      \n",
        "print(\"{},{}\".format(max_x, max_y))"
      ],
      "execution_count": 0,
      "outputs": [
        {
          "output_type": "stream",
          "text": [
            "235,14\n"
          ],
          "name": "stdout"
        }
      ]
    },
    {
      "metadata": {
        "id": "nE7AZkaihdQc",
        "colab_type": "text"
      },
      "cell_type": "markdown",
      "source": [
        "## Part Two\n"
      ]
    },
    {
      "metadata": {
        "id": "BpXQxjGkIrBe",
        "colab_type": "code",
        "outputId": "fddd47ff-2992-458a-bba2-a62e498d36c9",
        "colab": {
          "base_uri": "https://localhost:8080/",
          "height": 34
        }
      },
      "cell_type": "code",
      "source": [
        "grid = np.array([[get_power_level(x,y,serial) for y in range(grid_size)] for x in range(grid_size)])\n",
        "\n",
        "max_v = -10\n",
        "max_x = -1\n",
        "max_y = -1\n",
        "size = 0\n",
        "\n",
        "for square_size in range(1, grid_size):\n",
        "  for x in range(grid_size - square_size):\n",
        "    for y in range(grid_size - square_size):\n",
        "      chunk = grid[x:x+square_size, y:y+square_size]\n",
        "      chunk_sum = sum(sum(chunk))\n",
        "      if chunk_sum > max_v:\n",
        "        max_v = chunk_sum\n",
        "        max_x = x\n",
        "        max_y = y\n",
        "        size = square_size\n",
        "        \n",
        "print(\"{},{},{}\".format(max_x, max_y, size))"
      ],
      "execution_count": 0,
      "outputs": [
        {
          "output_type": "stream",
          "text": [
            "237,227,14\n"
          ],
          "name": "stdout"
        }
      ]
    },
    {
      "metadata": {
        "id": "Jrm5yH5qVmVw",
        "colab_type": "code",
        "colab": {}
      },
      "cell_type": "code",
      "source": [
        ""
      ],
      "execution_count": 0,
      "outputs": []
    }
  ]
}