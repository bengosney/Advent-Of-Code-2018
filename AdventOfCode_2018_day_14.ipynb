{
  "nbformat": 4,
  "nbformat_minor": 0,
  "metadata": {
    "colab": {
      "name": "AdventOfCode-2018-day-14.ipynb",
      "version": "0.3.2",
      "provenance": [],
      "collapsed_sections": [],
      "include_colab_link": true
    },
    "kernelspec": {
      "name": "python3",
      "display_name": "Python 3"
    }
  },
  "cells": [
    {
      "cell_type": "markdown",
      "metadata": {
        "id": "view-in-github",
        "colab_type": "text"
      },
      "source": [
        "<a href=\"https://colab.research.google.com/github/bengosney/Advent-Of-Code-2018/blob/master/AdventOfCode_2018_day_14.ipynb\" target=\"_parent\"><img src=\"https://colab.research.google.com/assets/colab-badge.svg\" alt=\"Open In Colab\"/></a>"
      ]
    },
    {
      "metadata": {
        "id": "sZo2eLisgwpr",
        "colab_type": "text"
      },
      "cell_type": "markdown",
      "source": [
        "# Advent of Code - Day 14\n"
      ]
    },
    {
      "metadata": {
        "id": "O4o8656NgyJR",
        "colab_type": "text"
      },
      "cell_type": "markdown",
      "source": [
        "## The input\n",
        "SImples"
      ]
    },
    {
      "metadata": {
        "id": "-YkolHgKVZfd",
        "colab_type": "code",
        "colab": {}
      },
      "cell_type": "code",
      "source": [
        "data = 157901"
      ],
      "execution_count": 0,
      "outputs": []
    },
    {
      "metadata": {
        "id": "g3utekjxg_XO",
        "colab_type": "text"
      },
      "cell_type": "markdown",
      "source": [
        "## Part One"
      ]
    },
    {
      "metadata": {
        "id": "7PJU_-nzS2_h",
        "colab_type": "code",
        "outputId": "8bb7be3f-a49d-4725-a668-c1bdd7e7de18",
        "colab": {
          "base_uri": "https://localhost:8080/",
          "height": 34
        }
      },
      "cell_type": "code",
      "source": [
        "scores = [3,7]\n",
        "el1 = 0\n",
        "el2 = 1\n",
        "\n",
        "  \n",
        "def do_round():\n",
        "  global el1, el2\n",
        "  \n",
        "  tot = scores[el1] + scores[el2]\n",
        "  \n",
        "  scores.extend(list(map(int, str(tot))))\n",
        "  el1 = (el1 + scores[el1] + 1) % len(scores)\n",
        "  el2 = (el2 + scores[el2] + 1) % len(scores)\n",
        "\n",
        "def get_ans():\n",
        "  f = len(scores)\n",
        "  \n",
        "  for i in range(10):\n",
        "    do_round()\n",
        "  \n",
        "  ans = \"\"\n",
        "  for i in range(f, f+10):\n",
        "    ans += str(scores[i])\n",
        "  \n",
        "  return ans\n",
        "  \n",
        "\n",
        "while len(scores) < data:\n",
        "  do_round()\n",
        "\n",
        "print(get_ans())"
      ],
      "execution_count": 2,
      "outputs": [
        {
          "output_type": "stream",
          "text": [
            "9411137133\n"
          ],
          "name": "stdout"
        }
      ]
    },
    {
      "metadata": {
        "id": "nE7AZkaihdQc",
        "colab_type": "text"
      },
      "cell_type": "markdown",
      "source": [
        "## Part Two"
      ]
    },
    {
      "metadata": {
        "id": "BpXQxjGkIrBe",
        "colab_type": "code",
        "outputId": "b4dea905-f635-4a7c-e883-26375d569f0b",
        "colab": {
          "base_uri": "https://localhost:8080/",
          "height": 34
        }
      },
      "cell_type": "code",
      "source": [
        "scores = [3,7]\n",
        "el1 = 0\n",
        "el2 = 1\n",
        "\n",
        "while str(data) not in \"\".join([str(s) for s in scores[-10:]]):\n",
        "  do_round()\n",
        "\n",
        "\n",
        "pt2 = len(scores) - len(str(data))\n",
        "print(pt2)"
      ],
      "execution_count": 3,
      "outputs": [
        {
          "output_type": "stream",
          "text": [
            "20317613\n"
          ],
          "name": "stdout"
        }
      ]
    }
  ]
}