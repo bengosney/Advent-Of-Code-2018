{
  "nbformat": 4,
  "nbformat_minor": 0,
  "metadata": {
    "colab": {
      "name": "AdventOfCode-2018-day-2.ipynb",
      "version": "0.3.2",
      "provenance": [],
      "collapsed_sections": [],
      "include_colab_link": true
    },
    "kernelspec": {
      "name": "python3",
      "display_name": "Python 3"
    }
  },
  "cells": [
    {
      "cell_type": "markdown",
      "metadata": {
        "id": "view-in-github",
        "colab_type": "text"
      },
      "source": [
        "<a href=\"https://colab.research.google.com/github/bengosney/Advent-Of-Code-2018/blob/master/AdventOfCode_2018_day_2.ipynb\" target=\"_parent\"><img src=\"https://colab.research.google.com/assets/colab-badge.svg\" alt=\"Open In Colab\"/></a>"
      ]
    },
    {
      "metadata": {
        "id": "sZo2eLisgwpr",
        "colab_type": "text"
      },
      "cell_type": "markdown",
      "source": [
        "# Advent of Code - Day 1"
      ]
    },
    {
      "metadata": {
        "id": "O4o8656NgyJR",
        "colab_type": "text"
      },
      "cell_type": "markdown",
      "source": [
        "## The input\n",
        "Nothing to see here..."
      ]
    },
    {
      "metadata": {
        "id": "-YkolHgKVZfd",
        "colab_type": "code",
        "colab": {}
      },
      "cell_type": "code",
      "source": [
        "with open('day2') as f:\n",
        "  input = f.read()"
      ],
      "execution_count": 0,
      "outputs": []
    },
    {
      "metadata": {
        "id": "g3utekjxg_XO",
        "colab_type": "text"
      },
      "cell_type": "markdown",
      "source": [
        "## Part One"
      ]
    },
    {
      "metadata": {
        "id": "dZA95ggShBCa",
        "colab_type": "text"
      },
      "cell_type": "markdown",
      "source": [
        "collections is really usefull, I need to look into it more"
      ]
    },
    {
      "metadata": {
        "id": "JLLSkLH8W4Pp",
        "colab_type": "code",
        "colab": {}
      },
      "cell_type": "code",
      "source": [
        "from collections import Counter"
      ],
      "execution_count": 0,
      "outputs": []
    },
    {
      "metadata": {
        "id": "iJp8UVlTXG_w",
        "colab_type": "code",
        "colab": {
          "base_uri": "https://localhost:8080/",
          "height": 34
        },
        "outputId": "f6975574-cfa3-4725-b1af-53cd160ae28d"
      },
      "cell_type": "code",
      "source": [
        "check2 = 0\n",
        "check3 = 0\n",
        "\n",
        "for line in input.splitlines():\n",
        "  counts = [count for letter, count in Counter(line).most_common()]\n",
        "  \n",
        "  if 2 in counts:\n",
        "    check2 += 1\n",
        "    \n",
        "  if 3 in counts:\n",
        "    check3 += 1\n",
        "    \n",
        "check = check2 * check3\n",
        "print(\"{}\".format(check))"
      ],
      "execution_count": 25,
      "outputs": [
        {
          "output_type": "stream",
          "text": [
            "6150\n"
          ],
          "name": "stdout"
        }
      ]
    },
    {
      "metadata": {
        "id": "LPMU12o-hW5A",
        "colab_type": "text"
      },
      "cell_type": "markdown",
      "source": [
        "Correct answer but, wow, thats long"
      ]
    },
    {
      "metadata": {
        "id": "nE7AZkaihdQc",
        "colab_type": "text"
      },
      "cell_type": "markdown",
      "source": [
        "## Part Two"
      ]
    },
    {
      "metadata": {
        "id": "pfqrbTOCb1Zy",
        "colab_type": "code",
        "colab": {
          "base_uri": "https://localhost:8080/",
          "height": 51
        },
        "outputId": "5576b839-c457-4890-c50a-fd95ade01dd0"
      },
      "cell_type": "code",
      "source": [
        "lines = input.splitlines()\n",
        "\n",
        "for line in lines:\n",
        "  expected_length = len(line) - 1\n",
        "  for other in lines:\n",
        "    same = ''.join([char for i, char in enumerate(line) if other[i] == char])\n",
        "    if len(same) == expected_length:\n",
        "      print(same)"
      ],
      "execution_count": 24,
      "outputs": [
        {
          "output_type": "stream",
          "text": [
            "rteotyxzbodglnpkudawhijsc\n",
            "rteotyxzbodglnpkudawhijsc\n"
          ],
          "name": "stdout"
        }
      ]
    },
    {
      "metadata": {
        "id": "HZxCCMM0hgv7",
        "colab_type": "text"
      },
      "cell_type": "markdown",
      "source": [
        "Massively inefficient as the inner loop doesn't need to loop eveything, I might look at this later"
      ]
    },
    {
      "metadata": {
        "id": "L3DhvNTkd93j",
        "colab_type": "code",
        "colab": {}
      },
      "cell_type": "code",
      "source": [
        ""
      ],
      "execution_count": 0,
      "outputs": []
    }
  ]
}