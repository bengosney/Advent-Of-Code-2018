{
  "nbformat": 4,
  "nbformat_minor": 0,
  "metadata": {
    "colab": {
      "name": "AdventOfCode-2018-day-6.ipynb",
      "version": "0.3.2",
      "provenance": [],
      "collapsed_sections": [],
      "toc_visible": true,
      "include_colab_link": true
    },
    "kernelspec": {
      "name": "python3",
      "display_name": "Python 3"
    }
  },
  "cells": [
    {
      "cell_type": "markdown",
      "metadata": {
        "id": "view-in-github",
        "colab_type": "text"
      },
      "source": [
        "<a href=\"https://colab.research.google.com/github/bengosney/Advent-Of-Code-2018/blob/master/AdventOfCode_2018_day_6.ipynb\" target=\"_parent\"><img src=\"https://colab.research.google.com/assets/colab-badge.svg\" alt=\"Open In Colab\"/></a>"
      ]
    },
    {
      "metadata": {
        "id": "DIvcrcNWbUit",
        "colab_type": "text"
      },
      "cell_type": "markdown",
      "source": [
        "# Advent of Code - Day 6"
      ]
    },
    {
      "metadata": {
        "id": "c2nt5zmjbaV_",
        "colab_type": "text"
      },
      "cell_type": "markdown",
      "source": [
        "## The input\n",
        "Nothing to see here..."
      ]
    },
    {
      "metadata": {
        "id": "DQiFDEjzgbKX",
        "colab_type": "code",
        "colab": {
          "base_uri": "https://localhost:8080/",
          "height": 197
        },
        "outputId": "bc219239-5a4c-455d-f6a2-02958c86c2e2"
      },
      "cell_type": "code",
      "source": [
        "with open('day6') as f:\n",
        "  data = f.read()\n",
        "data = data.splitlines()"
      ],
      "execution_count": 1,
      "outputs": [
        {
          "output_type": "error",
          "ename": "FileNotFoundError",
          "evalue": "ignored",
          "traceback": [
            "\u001b[0;31m---------------------------------------------------------------------------\u001b[0m",
            "\u001b[0;31mFileNotFoundError\u001b[0m                         Traceback (most recent call last)",
            "\u001b[0;32m<ipython-input-1-615b21ddb958>\u001b[0m in \u001b[0;36m<module>\u001b[0;34m()\u001b[0m\n\u001b[0;32m----> 1\u001b[0;31m \u001b[0;32mwith\u001b[0m \u001b[0mopen\u001b[0m\u001b[0;34m(\u001b[0m\u001b[0;34m'day6'\u001b[0m\u001b[0;34m)\u001b[0m \u001b[0;32mas\u001b[0m \u001b[0mf\u001b[0m\u001b[0;34m:\u001b[0m\u001b[0;34m\u001b[0m\u001b[0;34m\u001b[0m\u001b[0m\n\u001b[0m\u001b[1;32m      2\u001b[0m   \u001b[0mdata\u001b[0m \u001b[0;34m=\u001b[0m \u001b[0mf\u001b[0m\u001b[0;34m.\u001b[0m\u001b[0mread\u001b[0m\u001b[0;34m(\u001b[0m\u001b[0;34m)\u001b[0m\u001b[0;34m\u001b[0m\u001b[0;34m\u001b[0m\u001b[0m\n\u001b[1;32m      3\u001b[0m \u001b[0mdata\u001b[0m \u001b[0;34m=\u001b[0m \u001b[0mdata\u001b[0m\u001b[0;34m.\u001b[0m\u001b[0msplitlines\u001b[0m\u001b[0;34m(\u001b[0m\u001b[0;34m)\u001b[0m\u001b[0;34m\u001b[0m\u001b[0;34m\u001b[0m\u001b[0m\n",
            "\u001b[0;31mFileNotFoundError\u001b[0m: [Errno 2] No such file or directory: 'day6'"
          ]
        }
      ]
    },
    {
      "metadata": {
        "id": "SZOuZlivWZjL",
        "colab_type": "text"
      },
      "cell_type": "markdown",
      "source": [
        "## Part One"
      ]
    },
    {
      "metadata": {
        "id": "MRiGchpGKdLd",
        "colab_type": "code",
        "colab": {}
      },
      "cell_type": "code",
      "source": [
        "import numpy as np\n",
        "from pprint import pprint"
      ],
      "execution_count": 0,
      "outputs": []
    },
    {
      "metadata": {
        "id": "XoBgnHxorHqm",
        "colab_type": "code",
        "outputId": "2f78d6ba-55b0-43ad-f339-f42b1e0e7edc",
        "colab": {
          "base_uri": "https://localhost:8080/",
          "height": 34
        }
      },
      "cell_type": "code",
      "source": [
        "MAX_X = 0\n",
        "MAX_Y = 0\n",
        "\n",
        "for line in data:\n",
        "  x, y = map(int, line.split(', '))\n",
        "  MAX_X = max(MAX_X, x)\n",
        "  MAX_Y = max(MAX_Y, y)\n",
        "  \n",
        "MAX_X += 1\n",
        "MAX_Y += 1\n",
        "print(MAX_X, MAX_Y)"
      ],
      "execution_count": 0,
      "outputs": [
        {
          "output_type": "stream",
          "text": [
            "355 357\n"
          ],
          "name": "stdout"
        }
      ]
    },
    {
      "metadata": {
        "id": "m5tPv4eKVjs4",
        "colab_type": "code",
        "colab": {}
      },
      "cell_type": "code",
      "source": [
        "def get_dist(pos, goal):\n",
        "  px, py = pos\n",
        "  gx, gy = goal\n",
        "  \n",
        "  return abs(px - gx) + abs(py - gy)\n",
        "\n",
        "\n",
        "grid = [[(0,10000) for j in range(-1, MAX_X+1)] for i in range(-1, MAX_Y+1)]\n",
        "i = 0\n",
        "region = 0\n",
        "for line in data:\n",
        "  i += 1\n",
        "  x, y = map(int, line.split(', '))\n",
        "  \n",
        "  for lx in range(0, MAX_X):\n",
        "    for ly in range(0, MAX_Y):\n",
        "      gid, dist = grid[lx][ly]\n",
        "      if gid == i:\n",
        "        continue\n",
        "        \n",
        "      my_dist = get_dist((lx,ly), (x,y))\n",
        "      \n",
        "      if my_dist < dist:\n",
        "        grid[lx][ly] = (i, my_dist)\n",
        "      elif my_dist == dist:\n",
        "        grid[lx][ly] = (0, my_dist)\n"
      ],
      "execution_count": 0,
      "outputs": []
    },
    {
      "metadata": {
        "id": "tt5iAN4xos3n",
        "colab_type": "code",
        "outputId": "43392a36-12c0-4e64-c0bd-23ea63a33170",
        "colab": {
          "base_uri": "https://localhost:8080/",
          "height": 920
        }
      },
      "cell_type": "code",
      "source": [
        "%matplotlib inline\n",
        "import matplotlib.pyplot as plt\n",
        "\n",
        "debug_grid = np.zeros((MAX_Y, MAX_X))\n",
        "for cx in range(0, MAX_X):\n",
        "  for cy in range(0, MAX_Y):\n",
        "    gid, dist = grid[cx][cy]\n",
        "    debug_grid[cy][cx] = gid\n",
        "    \n",
        "    \n",
        "fig = plt.figure(figsize=(18,16))\n",
        "ax = plt.gca()\n",
        "plt.axis('off')\n",
        "plt.imshow(debug_grid, cmap='hot')\n",
        "plt.show()"
      ],
      "execution_count": 0,
      "outputs": [
        {
          "output_type": "display_data",
          "data": {
            "image/png": "[encoded data removed]",
            "text/plain": [
              "<matplotlib.figure.Figure at 0x7fd25dac9da0>"
            ]
          },
          "metadata": {
            "tags": []
          }
        }
      ]
    },
    {
      "metadata": {
        "id": "WaVWONshzP4R",
        "colab_type": "code",
        "outputId": "162d2bf5-dc94-46f6-8b32-dfbd234d0eec",
        "colab": {
          "base_uri": "https://localhost:8080/",
          "height": 901
        }
      },
      "cell_type": "code",
      "source": [
        "from collections import defaultdict\n",
        "\n",
        "counts = defaultdict(int)\n",
        "\n",
        "for row in grid:\n",
        "  for cell in row:\n",
        "    i, _ = cell\n",
        "    counts[i] += 1\n",
        "    \n",
        "pprint(counts)"
      ],
      "execution_count": 0,
      "outputs": [
        {
          "output_type": "stream",
          "text": [
            "defaultdict(<class 'int'>,\n",
            "            {0: 3318,\n",
            "             1: 1010,\n",
            "             2: 2647,\n",
            "             3: 1598,\n",
            "             4: 1028,\n",
            "             5: 2459,\n",
            "             6: 3342,\n",
            "             7: 5094,\n",
            "             8: 295,\n",
            "             9: 1146,\n",
            "             10: 2773,\n",
            "             11: 3949,\n",
            "             12: 2497,\n",
            "             13: 6296,\n",
            "             14: 6763,\n",
            "             15: 791,\n",
            "             16: 2064,\n",
            "             17: 758,\n",
            "             18: 2161,\n",
            "             19: 7722,\n",
            "             20: 1583,\n",
            "             21: 1877,\n",
            "             22: 4367,\n",
            "             23: 1437,\n",
            "             24: 11578,\n",
            "             25: 2674,\n",
            "             26: 1881,\n",
            "             27: 238,\n",
            "             28: 2689,\n",
            "             29: 4713,\n",
            "             30: 1707,\n",
            "             31: 285,\n",
            "             32: 3001,\n",
            "             33: 1854,\n",
            "             34: 1057,\n",
            "             35: 983,\n",
            "             36: 4829,\n",
            "             37: 871,\n",
            "             38: 688,\n",
            "             39: 396,\n",
            "             40: 685,\n",
            "             41: 2304,\n",
            "             42: 816,\n",
            "             43: 1226,\n",
            "             44: 2031,\n",
            "             45: 2228,\n",
            "             46: 3741,\n",
            "             47: 1443,\n",
            "             48: 3911,\n",
            "             49: 1246,\n",
            "             50: 2113})\n"
          ],
          "name": "stdout"
        }
      ]
    },
    {
      "metadata": {
        "id": "QO4zP4KSezco",
        "colab_type": "code",
        "outputId": "f5932715-ca36-4b3c-9391-abc65fbb29e7",
        "colab": {
          "base_uri": "https://localhost:8080/",
          "height": 34
        }
      },
      "cell_type": "code",
      "source": [
        "edges = []\n",
        "\n",
        "first_row = None\n",
        "last_row = None\n",
        "\n",
        "for row in grid:\n",
        "  if first_row == None:\n",
        "    first_row = row\n",
        "    \n",
        "  last_row = row\n",
        "  \n",
        "  first_cell = None\n",
        "  last_cell = None\n",
        "  for cell in row:\n",
        "    if first_cell == None:\n",
        "      first_cell = cell\n",
        "    last_cell = cell\n",
        "    \n",
        "  gid, _ = first_cell\n",
        "  edges.append(gid)\n",
        "  gid, _ = last_cell\n",
        "  edges.append(gid)\n",
        "  \n",
        "for cell in first_row:\n",
        "  gid, _ = cell\n",
        "  edges.append(gid)\n",
        "  \n",
        "for cell in last_row:\n",
        "  gid, _ = cell\n",
        "  edges.append(gid)\n",
        "\n",
        "edges = list(set(edges))\n",
        "print(edges, len(edges))"
      ],
      "execution_count": 0,
      "outputs": [
        {
          "output_type": "stream",
          "text": [
            "[0, 32, 7, 10, 11, 45, 46, 14, 48, 17, 18, 19, 13, 22, 24, 29] 16\n"
          ],
          "name": "stdout"
        }
      ]
    },
    {
      "metadata": {
        "id": "deMeW3kWflDZ",
        "colab_type": "code",
        "outputId": "8c3f45d7-48db-4afb-e7d2-cc6ef24e701f",
        "colab": {
          "base_uri": "https://localhost:8080/",
          "height": 306
        }
      },
      "cell_type": "code",
      "source": [
        "biggest = 0\n",
        "\n",
        "for gid, count in counts.items():\n",
        "  if gid in edges:\n",
        "    continue\n",
        "    \n",
        "  if count > biggest:\n",
        "    biggest = count\n",
        "    \n",
        "print(biggest)"
      ],
      "execution_count": 0,
      "outputs": [
        {
          "output_type": "stream",
          "text": [
            "skip\n",
            "skip\n",
            "skip\n",
            "skip\n",
            "skip\n",
            "skip\n",
            "skip\n",
            "skip\n",
            "skip\n",
            "skip\n",
            "skip\n",
            "skip\n",
            "skip\n",
            "skip\n",
            "skip\n",
            "skip\n",
            "4829\n"
          ],
          "name": "stdout"
        }
      ]
    },
    {
      "metadata": {
        "id": "gy5iqr2zWdpQ",
        "colab_type": "text"
      },
      "cell_type": "markdown",
      "source": [
        "## Part Two"
      ]
    },
    {
      "metadata": {
        "id": "X1661A4JYjnv",
        "colab_type": "code",
        "outputId": "10acae32-5f14-4d5b-87dc-52e6064dbc3b",
        "colab": {
          "base_uri": "https://localhost:8080/",
          "height": 34
        }
      },
      "cell_type": "code",
      "source": [
        "pt_area = 0\n",
        "\n",
        "grid_pt2 = [[0 for j in range(-1, MAX_X+1)] for i in range(-1, MAX_Y+1)]\n",
        "\n",
        "for gx in range(0, MAX_X):\n",
        "  for gy in range(0, MAX_Y):\n",
        "    distances = {}\n",
        "    i = 0\n",
        "    for line in data:\n",
        "      x, y = map(int, line.split(', '))\n",
        "      distances[i] = get_dist((gx,gy), (x,y))   \n",
        "      i += 1\n",
        "      \n",
        "    tot = sum(distances.values())\n",
        "      \n",
        "    if tot < 10000:\n",
        "      grid_pt2[gx][gy] = tot\n",
        "      pt_area += 1\n",
        "      \n",
        "      \n",
        "print(pt_area)"
      ],
      "execution_count": 0,
      "outputs": [
        {
          "output_type": "stream",
          "text": [
            "46966\n"
          ],
          "name": "stdout"
        }
      ]
    },
    {
      "metadata": {
        "id": "2NhfbZAfvqsG",
        "colab_type": "code",
        "outputId": "c9d043f9-f6a7-45ed-bd2f-5c3c5676084f",
        "colab": {
          "base_uri": "https://localhost:8080/",
          "height": 920
        }
      },
      "cell_type": "code",
      "source": [
        "fig = plt.figure(figsize=(18,16))\n",
        "ax = plt.gca()\n",
        "plt.axis('off')\n",
        "plt.imshow(grid_pt2, cmap='hot')\n",
        "plt.show()"
      ],
      "execution_count": 0,
      "outputs": [
        {
          "output_type": "display_data",
          "data": {
            "image/png": "[encoded data removed]",
            "text/plain": [
              "<matplotlib.figure.Figure at 0x7fd2486dccc0>"
            ]
          },
          "metadata": {
            "tags": []
          }
        }
      ]
    },
    {
      "metadata": {
        "id": "EyP5Rm8jw9la",
        "colab_type": "code",
        "colab": {}
      },
      "cell_type": "code",
      "source": [
        ""
      ],
      "execution_count": 0,
      "outputs": []
    }
  ]
}